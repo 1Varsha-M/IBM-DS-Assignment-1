{
  "metadata": {
    "kernelspec": {
      "name": "python",
      "display_name": "Python (Pyodide)",
      "language": "python"
    },
    "language_info": {
      "codemirror_mode": {
        "name": "python",
        "version": 3
      },
      "file_extension": ".py",
      "mimetype": "text/x-python",
      "name": "python",
      "nbconvert_exporter": "python",
      "pygments_lexer": "ipython3",
      "version": "3.8"
    }
  },
  "nbformat_minor": 5,
  "nbformat": 4,
  "cells": [
    {
      "id": "e41dff0a-b1b9-4603-b3e2-1d8f1a7f9a2b",
      "cell_type": "markdown",
      "source": "# Data Science Tools and Ecosystem",
      "metadata": {}
    },
    {
      "id": "c63e4ce0-68d1-4760-afe2-3f819df9ae66",
      "cell_type": "markdown",
      "source": "In this notebook, Data Science Tools and Ecosystem are sumarized.",
      "metadata": {}
    },
    {
      "id": "0de3eb58-a84a-42c7-b521-27d0f7f71e24",
      "cell_type": "markdown",
      "source": "# OBJECTIVES\n- List popular languages for Data Science\n- List popular libraries for Data Science\n- List popular tools for Data Science\n- Carry out the an arithmetic expression\n- Perform multiplication and then addition of integers\n- Convertion of minutes into hours",
      "metadata": {}
    },
    {
      "id": "082ab241-2dc6-4ecb-bc43-df5cd8c85b04",
      "cell_type": "markdown",
      "source": "# Some of the popular languages that Data Scientists use are:\n1. Python\n2. R\n3. SQL\n4. Java\n5. Julia\n6. Scala\n7. MATLAB",
      "metadata": {}
    },
    {
      "id": "cf36d3ee-0365-4abb-84d1-de95295975bb",
      "cell_type": "markdown",
      "source": "# Some of the commonly used libraries used by Data Scientists inlclude: \n1. NumPy\n2. Pandas\n3. Matplotlib\n4. Seaborn\n5. Scikit-learn\n6. TensorFlow\n7. PyTorch\n8. SciPy",
      "metadata": {}
    },
    {
      "id": "1081469d-7d35-4867-8471-4dd27369f9c9",
      "cell_type": "markdown",
      "source": "| Data Science Tools|\n|---|\n| Hadoop|\n| Apache Spark|\n| SAS|\n| MongoDB| \n| MySQL|",
      "metadata": {}
    },
    {
      "id": "84e8f136-433b-42f1-947d-bb760935265c",
      "cell_type": "markdown",
      "source": "### Below are a few examples of evaluating arithmetic expressions in Python\n A= 5 + 3\n B = 6 - 1\n C = 4*3\n D = 5/2\n print(\"A\", A)\n print (\"B\", B)\n print (\"C\", C)\n print (\"D\", D)\n",
      "metadata": {}
    },
    {
      "id": "4f3f8b7b-c9f5-45e6-85b4-8dd83c8572c0",
      "cell_type": "code",
      "source": "(3*4)+5",
      "metadata": {
        "trusted": true
      },
      "outputs": [
        {
          "execution_count": 11,
          "output_type": "execute_result",
          "data": {
            "text/plain": "17"
          },
          "metadata": {}
        }
      ],
      "execution_count": 11
    },
    {
      "id": "93933fad-76b3-47b0-b067-a7706cd9ae85",
      "cell_type": "code",
      "source": "#This is a simple arithmetic expression to multiply and then add integers\n(3*4)+5",
      "metadata": {
        "trusted": true
      },
      "outputs": [
        {
          "execution_count": 13,
          "output_type": "execute_result",
          "data": {
            "text/plain": "17"
          },
          "metadata": {}
        }
      ],
      "execution_count": 13
    },
    {
      "id": "9680f07e-2405-4e18-8f9b-1d5d3df6105e",
      "cell_type": "code",
      "source": "# This will convert 200 minutes to hours by dividing by 60\n200/60",
      "metadata": {
        "trusted": true
      },
      "outputs": [
        {
          "execution_count": 14,
          "output_type": "execute_result",
          "data": {
            "text/plain": "3.3333333333333335"
          },
          "metadata": {}
        }
      ],
      "execution_count": 14
    },
    {
      "id": "85532b80-e8b1-4c96-b755-5e04decbd167",
      "cell_type": "markdown",
      "source": "## Author\nVarsha Madhulika",
      "metadata": {}
    },
    {
      "id": "da5f5261-6242-454d-9933-5e4602429aac",
      "cell_type": "code",
      "source": "",
      "metadata": {
        "trusted": true
      },
      "outputs": [],
      "execution_count": null
    }
  ]
}